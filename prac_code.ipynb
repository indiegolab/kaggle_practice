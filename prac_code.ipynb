{
  "nbformat": 4,
  "nbformat_minor": 0,
  "metadata": {
    "kernelspec": {
      "display_name": "Python 3",
      "language": "python",
      "name": "python3"
    },
    "language_info": {
      "codemirror_mode": {
        "name": "ipython",
        "version": 3
      },
      "file_extension": ".py",
      "mimetype": "text/x-python",
      "name": "python",
      "nbconvert_exporter": "python",
      "pygments_lexer": "ipython3",
      "version": "3.7.7"
    },
    "colab": {
      "name": "prac_code.ipynb",
      "provenance": [],
      "collapsed_sections": [],
      "include_colab_link": true
    }
  },
  "cells": [
    {
      "cell_type": "markdown",
      "metadata": {
        "id": "view-in-github",
        "colab_type": "text"
      },
      "source": [
        "<a href=\"https://colab.research.google.com/github/indiegolab/pracCode/blob/master/prac_code.ipynb\" target=\"_parent\"><img src=\"https://colab.research.google.com/assets/colab-badge.svg\" alt=\"Open In Colab\"/></a>"
      ]
    },
    {
      "cell_type": "markdown",
      "metadata": {
        "id": "nE21mlU2-gNP"
      },
      "source": [
        "[나의 코랩](https://colab.research.google.com/drive/1MC09s7npwUcSfXykjgPXjrWCHhitRCFp)\n",
        "\n",
        "- Daily Goal: 1\n",
        "- Weekly Goal: 10"
      ]
    },
    {
      "cell_type": "markdown",
      "metadata": {
        "id": "S4Qdf50x-gNQ"
      },
      "source": [
        "### [음계](https://www.acmicpc.net/problem/2920)\n",
        "\n",
        "8개의 음\n",
        "1->8: ascending\n",
        "8->1: descending\n",
        "others: mixed"
      ]
    },
    {
      "cell_type": "code",
      "metadata": {
        "id": "my9NbUMZ-gNb",
        "outputId": "16fdcfe7-5b8c-4693-e758-3e88cbb6155e",
        "colab": {
          "base_uri": "https://localhost:8080/",
          "height": 50
        }
      },
      "source": [
        "# map 함수 활용, input값을 공백으로 split\n",
        "# sorted 함수 활용, 오르내림 판별\n",
        "\n",
        "def scale():\n",
        "    notes = list(map(int, input().split()))\n",
        "\n",
        "    if notes == sorted(notes):\n",
        "        print('ascending')\n",
        "    elif notes == sorted(notes, reverse=True):\n",
        "        print('descending')\n",
        "    else:\n",
        "        print('mixed')\n",
        "scale()"
      ],
      "execution_count": null,
      "outputs": [
        {
          "output_type": "stream",
          "text": [
            "111\n",
            "ascending\n"
          ],
          "name": "stdout"
        }
      ]
    },
    {
      "cell_type": "markdown",
      "metadata": {
        "id": "U04S1OBW-pVw"
      },
      "source": [
        "[블랙잭](https://www.acmicpc.net/problem/2798)\n",
        "\n",
        "무슨 문제?\n",
        "\n",
        "3개 골라서 합 <-M\n",
        "\n",
        "input: 숫자 n개, M, n개의 각 숫자\n",
        "output: 3개 숫자의 합\n",
        "\n",
        "- 배열, 완전탐색\n",
        "\n",
        "\n"
      ]
    },
    {
      "cell_type": "code",
      "metadata": {
        "id": "E4wasQkC_v5f",
        "outputId": "b6414886-9e46-46c0-d5f4-05701ca67552",
        "colab": {
          "base_uri": "https://localhost:8080/",
          "height": 66
        }
      },
      "source": [
        "n, M = list(map(int, input().split(' ')))\n",
        "cards = list(map(int, input().split(' ')))\n",
        "\n",
        "# nC3 컴비네이션 경우의 수 만큼 나오고,\n",
        "# sum <=M 중 max인 값\n",
        "result = 0\n",
        "\n",
        "for i in range(0,n):\n",
        "    for j in range(i+1,n):\n",
        "        for k in range(j+1, n):\n",
        "            sum_value= cards[i] + cards[j] + cards[k]\n",
        "            if sum_value <=M:\n",
        "                result = max(result, sum_value) \n",
        "                # 비교해서 더 큰 값을 result에 넣어줌\n",
        "print(result)"
      ],
      "execution_count": null,
      "outputs": [
        {
          "output_type": "stream",
          "text": [
            "5 21\n",
            "5 6 7 8 9\n",
            "21\n"
          ],
          "name": "stdout"
        }
      ]
    },
    {
      "cell_type": "code",
      "metadata": {
        "id": "KXy-0W7fA0Yq"
      },
      "source": [
        "# 동빈나 코드\n",
        "n, m = list(map(int, input().split(' ')))\n",
        "data = list(map(int, input().split(' ')))\n",
        "\n",
        "result = 0\n",
        "length = len(data)\n",
        "count = 0\n",
        "\n",
        "for i in range(0, length):\n",
        "    for j in range(i + 1, length):\n",
        "        for k in range(j + 1, length):\n",
        "            sum_value = data[i] + data[j] + data[k]\n",
        "            if sum_value <= m:\n",
        "                result = max(result, sum_value)\n",
        "\n",
        "print(result)"
      ],
      "execution_count": null,
      "outputs": []
    },
    {
      "cell_type": "markdown",
      "metadata": {
        "id": "jyHe2tK-4WkB"
      },
      "source": [
        "[Stack Suyeul](https://www.acmicpc.net/problem/1874)\n",
        "\n"
      ]
    },
    {
      "cell_type": "code",
      "metadata": {
        "id": "94pTCpkV4VwR",
        "outputId": "3ebfcc4a-c823-4e4d-8269-47189a3e6c00",
        "colab": {
          "base_uri": "https://localhost:8080/",
          "height": 341
        }
      },
      "source": [
        "n = int(input()) # 정수 갯수\n",
        "count = 1\n",
        "stack = list(map(int, input().split(' '))) # 스택\n",
        "result = []\n",
        "\n",
        "for i in range(1, n+1): # 데이터 개수만큼 반복\n",
        "    data = stack[i-1]\n",
        "    while count <= data: #입력 받은 데이터에 도달 할 때까지 삽입\n",
        "        stack.append(count)\n",
        "        count +=1\n",
        "        result.append('+')\n",
        "    if stack[-1] == data: # 스택의 최상위 원소가 데이터와 같을 때 출력\n",
        "        stack.pop()\n",
        "        result.append('-')\n",
        "    else:\n",
        "        print('NO')\n",
        "        exit(0)\n",
        "        \n",
        "print('\\n'.join(result)) # 가능한 경우"
      ],
      "execution_count": null,
      "outputs": [
        {
          "output_type": "stream",
          "text": [
            "7\n",
            "8 7 6 5 9 8 7\n",
            "NO\n",
            "NO\n",
            "+\n",
            "+\n",
            "+\n",
            "+\n",
            "+\n",
            "+\n",
            "+\n",
            "+\n",
            "-\n",
            "-\n",
            "-\n",
            "-\n",
            "+\n",
            "-\n"
          ],
          "name": "stdout"
        }
      ]
    },
    {
      "cell_type": "markdown",
      "metadata": {
        "id": "neRDAFjzqujO"
      },
      "source": [
        "If you want to solve more, collect problems and do it here.\n"
      ]
    },
    {
      "cell_type": "markdown",
      "metadata": {
        "id": "jlMsj4v8nIlg"
      },
      "source": [
        "# 파이썬 알고리즘 인터뷰"
      ]
    },
    {
      "cell_type": "markdown",
      "metadata": {
        "id": "Dc5uHaptnKh7"
      },
      "source": [
        "맛보기 문제 leetcode 1번: [twosum](https://leetcode.com/problems/two-sum/)"
      ]
    },
    {
      "cell_type": "code",
      "metadata": {
        "id": "OE8TW74F7eMo"
      },
      "source": [
        "class Solution:\n",
        "    def twoSum(self, nums: List[int], target: int) -> List[int]:\n",
        "        for i in range(len(nums)):\n",
        "            for j in range(i+1, len(nums)):\n",
        "                if nums[i] + nums[j] == target:\n",
        "                    return [i,j]"
      ],
      "execution_count": null,
      "outputs": []
    },
    {
      "cell_type": "code",
      "metadata": {
        "id": "XXbDljqY7gpo"
      },
      "source": [
        ""
      ],
      "execution_count": null,
      "outputs": []
    },
    {
      "cell_type": "code",
      "metadata": {
        "id": "lS9GpvS1nNT0",
        "outputId": "ab15aff1-5c1f-470f-f7db-5f543f34cb8b",
        "colab": {
          "base_uri": "https://localhost:8080/",
          "height": 33
        }
      },
      "source": [
        "!python --version"
      ],
      "execution_count": 1,
      "outputs": [
        {
          "output_type": "stream",
          "text": [
            "Python 3.6.9\n"
          ],
          "name": "stdout"
        }
      ]
    },
    {
      "cell_type": "code",
      "metadata": {
        "id": "Ph8ChY1To_jL",
        "outputId": "7c78322f-f064-42a2-8ff0-b60cfabe3bbf",
        "colab": {
          "base_uri": "https://localhost:8080/",
          "height": 33
        }
      },
      "source": [
        "!echo $PYTHONPATH"
      ],
      "execution_count": 3,
      "outputs": [
        {
          "output_type": "stream",
          "text": [
            "/env/python\n"
          ],
          "name": "stdout"
        }
      ]
    },
    {
      "cell_type": "code",
      "metadata": {
        "id": "DdnrmdJ5sPjr",
        "outputId": "e47fc84b-823a-41bf-f000-fa543d41af5c",
        "colab": {
          "base_uri": "https://localhost:8080/",
          "height": 33
        }
      },
      "source": [
        "!python --version"
      ],
      "execution_count": 10,
      "outputs": [
        {
          "output_type": "stream",
          "text": [
            "Python 3.6.9\n"
          ],
          "name": "stdout"
        }
      ]
    },
    {
      "cell_type": "markdown",
      "metadata": {
        "id": "-vAh6YZ1sSQH"
      },
      "source": [
        "### 리스트 컴프리헨션\n",
        "\n",
        "파이썬은 map, filter와 같은 함수형 기능을 지원\n",
        "\n",
        "다음과 같은 람다 표현식도 지원(Lamda Expression)"
      ]
    },
    {
      "cell_type": "code",
      "metadata": {
        "id": "smUT3dgj5Bdt",
        "outputId": "e5178e47-7723-4da9-bd73-4d3ca4c87d62",
        "colab": {
          "base_uri": "https://localhost:8080/",
          "height": 33
        }
      },
      "source": [
        "list(map(lambda x: x +10, [10,20,30]))"
      ],
      "execution_count": 2,
      "outputs": [
        {
          "output_type": "execute_result",
          "data": {
            "text/plain": [
              "[20, 30, 40]"
            ]
          },
          "metadata": {
            "tags": []
          },
          "execution_count": 2
        }
      ]
    },
    {
      "cell_type": "markdown",
      "metadata": {
        "id": "D_BTXywq5Guv"
      },
      "source": [
        "- List Comprehension은 기존 리스트를 기반으로 새로운 리스트를 만들어내는 구문이다\n",
        "- map과 filter 대신 리스트 컴프리헨션을 사용하면 map과 filter를 섞어서 사용하는 것에 비해 가독성이 훨씬높다.\n",
        "\n"
      ]
    },
    {
      "cell_type": "code",
      "metadata": {
        "id": "MZCYO_lO5rHp",
        "outputId": "228201b2-ad79-42d2-f4b2-7104fe18ff90",
        "colab": {
          "base_uri": "https://localhost:8080/",
          "height": 33
        }
      },
      "source": [
        "[n*2 for n in range(1, 10 + 1) if n%2 ==1]"
      ],
      "execution_count": 1,
      "outputs": [
        {
          "output_type": "execute_result",
          "data": {
            "text/plain": [
              "[2, 6, 10, 14, 18]"
            ]
          },
          "metadata": {
            "tags": []
          },
          "execution_count": 1
        }
      ]
    },
    {
      "cell_type": "code",
      "metadata": {
        "id": "7G3qlEPd7F2m",
        "outputId": "1566d1ed-36ea-47d5-99e4-943017f8fa69",
        "colab": {
          "base_uri": "https://localhost:8080/",
          "height": 33
        }
      },
      "source": [
        "# 리스트 컴프리헨션을 안 쓴다면\n",
        "a = []\n",
        "for n in range(1,10+1):\n",
        "    if n%2 ==1:\n",
        "        a.append(n*2)\n",
        "a"
      ],
      "execution_count": 5,
      "outputs": [
        {
          "output_type": "execute_result",
          "data": {
            "text/plain": [
              "[2, 6, 10, 14, 18]"
            ]
          },
          "metadata": {
            "tags": []
          },
          "execution_count": 5
        }
      ]
    },
    {
      "cell_type": "code",
      "metadata": {
        "id": "JtYou-si72Ce"
      },
      "source": [
        ""
      ],
      "execution_count": null,
      "outputs": []
    }
  ]
}